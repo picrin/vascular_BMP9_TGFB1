{
 "cells": [
  {
   "cell_type": "code",
   "execution_count": 4,
   "metadata": {},
   "outputs": [],
   "source": [
    "import numpy\n",
    "import random"
   ]
  },
  {
   "cell_type": "code",
   "execution_count": 5,
   "metadata": {},
   "outputs": [],
   "source": [
    "def create_cell(gene_no, function, constants):\n",
    "    result = []\n",
    "    for i in range(gene_no):\n",
    "        result.append(function(*constants))\n",
    "    return numpy.array(result).reshape(1, -1)"
   ]
  },
  {
   "cell_type": "code",
   "execution_count": 6,
   "metadata": {},
   "outputs": [],
   "source": [
    "def create_experiment(cell_no, gene_no, function, constants):\n",
    "    experiment = numpy.zeros(shape=(cell_no, gene_no))\n",
    "    for i in range(cell_no):\n",
    "        experiment[i, :] = create_cell(gene_no, function, constants)\n",
    "    return experiment"
   ]
  },
  {
   "cell_type": "code",
   "execution_count": 7,
   "metadata": {},
   "outputs": [],
   "source": [
    "spliced = create_experiment(10, 5, lambda mu, sigma: numpy.random.poisson(numpy.random.lognormal(mu, sigma)), [0, 0.1])"
   ]
  },
  {
   "cell_type": "code",
   "execution_count": 8,
   "metadata": {},
   "outputs": [
    {
     "data": {
      "text/plain": [
       "array([[0., 2., 2., 0., 2.],\n",
       "       [1., 1., 1., 2., 0.],\n",
       "       [2., 1., 0., 0., 0.],\n",
       "       [1., 3., 0., 1., 0.],\n",
       "       [0., 1., 3., 1., 0.],\n",
       "       [0., 1., 2., 2., 1.],\n",
       "       [0., 2., 0., 4., 0.],\n",
       "       [0., 0., 0., 2., 0.],\n",
       "       [4., 0., 0., 1., 0.],\n",
       "       [3., 2., 1., 2., 0.]])"
      ]
     },
     "execution_count": 8,
     "metadata": {},
     "output_type": "execute_result"
    }
   ],
   "source": [
    "spliced"
   ]
  },
  {
   "cell_type": "code",
   "execution_count": null,
   "metadata": {},
   "outputs": [],
   "source": []
  }
 ],
 "metadata": {
  "kernelspec": {
   "display_name": "Python 3",
   "language": "python",
   "name": "python3"
  },
  "language_info": {
   "codemirror_mode": {
    "name": "ipython",
    "version": 3
   },
   "file_extension": ".py",
   "mimetype": "text/x-python",
   "name": "python",
   "nbconvert_exporter": "python",
   "pygments_lexer": "ipython3",
   "version": "3.6.7"
  }
 },
 "nbformat": 4,
 "nbformat_minor": 2
}
